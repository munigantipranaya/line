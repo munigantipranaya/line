{
  "nbformat": 4,
  "nbformat_minor": 0,
  "metadata": {
    "colab": {
      "provenance": []
    },
    "kernelspec": {
      "name": "python3",
      "display_name": "Python 3"
    },
    "language_info": {
      "name": "python"
    }
  },
  "cells": [
    {
      "cell_type": "code",
      "source": [
        "import numpy as np\n",
        "class LineModel:\n",
        "    def __init__(self):\n",
        "        \"\"\"\n",
        "        Initialize a new LineModel with empty points list\n",
        "        \"\"\"\n",
        "        self.slope=0\n",
        "        self.bias=0\n",
        "        self.points = []\n",
        "\n",
        "    def add_points(self, points):\n",
        "        \"\"\"\n",
        "        Adds new points to the existing points list.\n",
        "        \"\"\"\n",
        "        self.points.extend(points)\n",
        "\n",
        "    def total_distance(self):\n",
        "        \"\"\"\n",
        "        Computes the summation of all distances between points and line and returns the sum.\n",
        "        \"\"\"\n",
        "        total_dist = 0\n",
        "        # Assuming line is initialized with default slope and bias\n",
        "        # You'll need to implement the calculation based on actual line equation\n",
        "        # Here, we are using a placeholder\n",
        "        for x, y in self.points:\n",
        "            # Compute distance from each point to the line (y = mx + c)\n",
        "            # Example placeholder line equation: y = 2x + 1\n",
        "            line_y = 2 * x + 1  # Example line equation (replace with actual computation)\n",
        "            distance = np.abs(self.slope*x-y+self.bias)/np.sqrt(self.slope**2+1)\n",
        "            total_dist += distance\n",
        "        return total_dist\n",
        "\n",
        "    def line_equation(self):\n",
        "        \"\"\"\n",
        "        Prints line equation in the form of y = mx + c\n",
        "        \"\"\"\n",
        "        print(f\"line equation:y={self.slope}x + {self.bias}\")\n",
        "\n",
        "class OptimizeLineModel(LineModel):\n",
        "\n",
        "    def __init__(self, learning_rate, iterations):\n",
        "        super().__init__()\n",
        "        \"\"\"\n",
        "        Initialize a new OptimizeLineModel with specified learning rate and iterations\n",
        "        \"\"\"\n",
        "        self.learning_rate = learning_rate\n",
        "        self.iterations = iterations\n",
        "\n",
        "\n",
        "    def optimize_line(self):\n",
        "        \"\"\"\n",
        "        Update the line slope and bias values using gradient descent or any optimization method\n",
        "        \"\"\"\n",
        "        # Placeholder gradient descent update\n",
        "        for _ in range(self.iterations):\n",
        "           slope_gradients=0\n",
        "           bias_gradients=0\n",
        "           for x,y in self.points:\n",
        "            error=self.slope*x+self.bias-y\n",
        "            slope_gradients+=2*x*error/len(self.points)\n",
        "            bias_gradients+=2*x*error/len(self.points)\n",
        "           self.slope -= self.learning_rate*slope_gradients\n",
        "           self.bias-=self.learning_rate*bias_gradients\n",
        "\n",
        "        # Example: Print optimized slope and bias (replace with actual computation)\n",
        "        print(\"Optimization complete.\")\n",
        "        self.line_equation()\n",
        "\n",
        "# Test case\n",
        "points = [(1, 2), (4, 8), (3, 6), (8, 16)]\n",
        "\n",
        "model = OptimizeLineModel(learning_rate=0.5, iterations=10)\n",
        "model.add_points(points)\n",
        "model.optimize_line()\n",
        "\n",
        "print(f'Total distance: {model.total_distance()}')\n",
        "print(f'Line equation is:',end='')\n",
        "model.line_equation()"
      ],
      "metadata": {
        "colab": {
          "base_uri": "https://localhost:8080/"
        },
        "id": "UUziLJieU8FJ",
        "outputId": "a2b04c26-3e36-4852-b668-c366b0d03450"
      },
      "execution_count": 11,
      "outputs": [
        {
          "output_type": "stream",
          "name": "stdout",
          "text": [
            "Optimization complete.\n",
            "line equation:y=-197409679843843.6x + -197409679843843.6\n",
            "Total distance: 20.000000000000163\n",
            "Line equation is:line equation:y=-197409679843843.6x + -197409679843843.6\n"
          ]
        }
      ]
    }
  ]
}